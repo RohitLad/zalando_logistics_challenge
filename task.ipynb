{
 "cells": [
  {
   "cell_type": "markdown",
   "id": "5b580db0-0e64-4e9b-b93b-bb2f642ffd16",
   "metadata": {},
   "source": [
    "# Challenge\n",
    "\n",
    "The challenge is to find a combination of items from Zalando's catalog, given the price of each item and a list of packages including a couple of items each time (but one item only once) such that the capacity of 40 liters is not exceeded. Goal has no limit on price but rather to maximize the total price with the optimal items selected.\n",
    "\n",
    "The measured volume of packages isn't accurate, but rather has a mean of 0 and a variance of 2 thus following a normal distribution. "
   ]
  },
  {
   "cell_type": "markdown",
   "id": "8fa5fa2e-a0f2-448a-8001-9449a5484c9b",
   "metadata": {},
   "source": [
    "# Solution\n",
    "\n",
    "The proposed solution is a two step process as follows\n",
    "\n",
    "## Get volume estimates of items\n",
    "\n",
    "Since it is known that the package measurements all have a mean of 0 and a variance of 2, it forms an advantage to use least squares to estimate the individual item volumes.\n",
    "- Mean of 0 -> errors are unbiased. if the mean wasn't 0, our estimates would've been biased\n",
    "- Variance of 2 -> a constant variance across all measurements means that the precision is consistent and estimated would be unbiased\n",
    "- Normal Distribution -> The least square estimates are also the maximum likelihood estimates\n",
    "\n",
    "## Solve a 0/1 knapsack problem for the given capacity\n",
    "\n",
    "A 0/1 knapsack problem includes selecting items (only once) in a combination that maximizes the value while still laying within the sack limit. This is a typical question asked in programming interviews and is expected a Dynamic Programming solution. But just for a twist, this problem has been solved in 2 ways\n",
    "- __Integer Programming__ -> the problem is formulated as an integer programming problem\n",
    "- __Sparse Dynamic Programming__ -> Instead of having a discrete linear space of the volume/ value, this method only considers sparsely achievable volumes! meaning, for a capacity of 40L, one doesn't have to create a table from 0->40 with a space of 1"
   ]
  },
  {
   "cell_type": "code",
   "execution_count": 1,
   "id": "8d31897b-8c77-4624-b68c-be0ddf94e1ed",
   "metadata": {},
   "outputs": [],
   "source": [
    "# We shall import necessary libraries for the challenge\n",
    "\n",
    "import numpy as np\n",
    "import pandas as pd\n",
    "import warnings as warn\n",
    "from sklearn.linear_model import LinearRegression, SGDRegressor\n",
    "from scipy.optimize import milp, Bounds, LinearConstraint"
   ]
  },
  {
   "cell_type": "code",
   "execution_count": 2,
   "id": "ae84b3d0-08a7-4c73-9300-300ad949c190",
   "metadata": {},
   "outputs": [],
   "source": [
    "# Loading the items and packages data as pandas dataframes.\n",
    "# In the entire code, a pandas dataframe is written with a suffix _df\n",
    "items_df = pd.read_json('items.json')\n",
    "packages_df = pd.read_json('packages.json')"
   ]
  },
  {
   "cell_type": "code",
   "execution_count": 3,
   "id": "aafc24ef-cd17-40d8-bc13-369cc3258aac",
   "metadata": {
    "scrolled": true
   },
   "outputs": [
    {
     "name": "stdout",
     "output_type": "stream",
     "text": [
      "Items Dataframe Info:\n",
      "\n",
      "<class 'pandas.core.frame.DataFrame'>\n",
      "RangeIndex: 60 entries, 0 to 59\n",
      "Data columns (total 2 columns):\n",
      " #   Column  Non-Null Count  Dtype \n",
      "---  ------  --------------  ----- \n",
      " 0   name    60 non-null     object\n",
      " 1   price   60 non-null     int64 \n",
      "dtypes: int64(1), object(1)\n",
      "memory usage: 1.1+ KB\n",
      "None\n",
      "Items Dataframe head:\n",
      "\n",
      "  name  price\n",
      "0   A1     98\n",
      "1   A2    108\n",
      "2   A3     82\n",
      "3   A4     34\n",
      "4   A5     52\n"
     ]
    }
   ],
   "source": [
    "# Info about items dataframe\n",
    "\n",
    "print('Items Dataframe Info:\\n')\n",
    "print(items_df.info())\n",
    "print('Items Dataframe head:\\n')\n",
    "print(items_df.head())"
   ]
  },
  {
   "cell_type": "code",
   "execution_count": 4,
   "id": "11821696-2669-4e0b-ac9c-1ecaba835bb8",
   "metadata": {},
   "outputs": [
    {
     "name": "stdout",
     "output_type": "stream",
     "text": [
      "Total number of items: 60\n",
      "Item names: \n",
      "['A1' 'A10' 'A11' 'A12' 'A13' 'A14' 'A15' 'A16' 'A17' 'A18' 'A19' 'A2'\n",
      " 'A20' 'A21' 'A22' 'A23' 'A24' 'A25' 'A26' 'A27' 'A28' 'A29' 'A3' 'A30'\n",
      " 'A31' 'A32' 'A33' 'A34' 'A35' 'A36' 'A37' 'A38' 'A39' 'A4' 'A40' 'A41'\n",
      " 'A42' 'A43' 'A44' 'A45' 'A46' 'A47' 'A48' 'A49' 'A5' 'A50' 'A51' 'A52'\n",
      " 'A53' 'A54' 'A55' 'A56' 'A57' 'A58' 'A59' 'A6' 'A60' 'A7' 'A8' 'A9']\n"
     ]
    }
   ],
   "source": [
    "unique_items = np.sort(items_df['name'].unique().flatten())\n",
    "print('Total number of items: {}'.format(unique_items.size))\n",
    "print('Item names: \\n{}'.format(unique_items))"
   ]
  },
  {
   "cell_type": "code",
   "execution_count": 5,
   "id": "1a32d2ee-4dfa-4020-a6fa-fc709782be25",
   "metadata": {},
   "outputs": [
    {
     "name": "stdout",
     "output_type": "stream",
     "text": [
      "Packages Dataframe Info:\n",
      "\n",
      "<class 'pandas.core.frame.DataFrame'>\n",
      "RangeIndex: 1000 entries, 0 to 999\n",
      "Data columns (total 2 columns):\n",
      " #   Column        Non-Null Count  Dtype  \n",
      "---  ------        --------------  -----  \n",
      " 0   total_volume  1000 non-null   float64\n",
      " 1   items         1000 non-null   object \n",
      "dtypes: float64(1), object(1)\n",
      "memory usage: 15.8+ KB\n",
      "None\n",
      "Packages Dataframe head:\n",
      "\n",
      "   total_volume                                    items\n",
      "0         36.04                      [A28, A3, A33, A59]\n",
      "1        123.78  [A51, A23, A57, A5, A33, A28, A12, A47]\n",
      "2         58.54                          [A10, A19, A22]\n",
      "3         79.33           [A38, A28, A57, A27, A46, A45]\n",
      "4         54.36                          [A40, A24, A57]\n"
     ]
    }
   ],
   "source": [
    "# Info about packages dataframe\n",
    "\n",
    "print('Packages Dataframe Info:\\n')\n",
    "print(packages_df.info())\n",
    "print('Packages Dataframe head:\\n')\n",
    "print(packages_df.head())"
   ]
  },
  {
   "cell_type": "code",
   "execution_count": 6,
   "id": "1ad55570-cb36-41c5-97e3-3ea7a5f83086",
   "metadata": {},
   "outputs": [
    {
     "name": "stdout",
     "output_type": "stream",
     "text": [
      "Total number of unique items included in packages: 60\n",
      "Item names included in packages: \n",
      "['A1' 'A10' 'A11' 'A12' 'A13' 'A14' 'A15' 'A16' 'A17' 'A18' 'A19' 'A2'\n",
      " 'A20' 'A21' 'A22' 'A23' 'A24' 'A25' 'A26' 'A27' 'A28' 'A29' 'A3' 'A30'\n",
      " 'A31' 'A32' 'A33' 'A34' 'A35' 'A36' 'A37' 'A38' 'A39' 'A4' 'A40' 'A41'\n",
      " 'A42' 'A43' 'A44' 'A45' 'A46' 'A47' 'A48' 'A49' 'A5' 'A50' 'A51' 'A52'\n",
      " 'A53' 'A54' 'A55' 'A56' 'A57' 'A58' 'A59' 'A6' 'A60' 'A7' 'A8' 'A9']\n"
     ]
    }
   ],
   "source": [
    "unique_items_included_in_packages = np.sort(packages_df['items'].explode().unique().flatten())\n",
    "print('Total number of unique items included in packages: {}'.format(unique_items_included_in_packages.size))\n",
    "print('Item names included in packages: \\n{}'.format(unique_items_included_in_packages))"
   ]
  },
  {
   "cell_type": "markdown",
   "id": "266c95cc-78f1-4451-97ad-3d46e32e6a99",
   "metadata": {},
   "source": [
    "With the above information, we can set up a system of linear equations $Ax=b$\n",
    "\n",
    "where $A$ is a matrix of shape $N_{packages} \\times N_{items}$, $b$ is a matrix of shape $N_{packages} \\times 1$ resembling package volumes and let $x$ be the variables i.e. item volumes to be solved for. $x$ is a matrix of shape $N_{items} \\times 1$"
   ]
  },
  {
   "cell_type": "code",
   "execution_count": 7,
   "id": "3575837d-538b-4095-9cb1-2def52a551e0",
   "metadata": {},
   "outputs": [
    {
     "name": "stdout",
     "output_type": "stream",
     "text": [
      "Items not included in packages: \n",
      "[]\n",
      "Number of items not included in packages: \n",
      "0\n"
     ]
    }
   ],
   "source": [
    "items_not_included_in_packages = list(set(unique_items)-set(unique_items_included_in_packages))\n",
    "num_items_not_included_in_packages = len(items_not_included_in_packages)\n",
    "\n",
    "print('Items not included in packages: \\n{}'.format(items_not_included_in_packages))\n",
    "print('Number of items not included in packages: \\n{}'.format(num_items_not_included_in_packages))"
   ]
  },
  {
   "cell_type": "markdown",
   "id": "4274a742-4e17-4b77-985a-3e443e3b0f65",
   "metadata": {},
   "source": [
    "The number of equations (1000) are more than the number of variables (60), which is an overdetermined system.\n",
    "\n",
    "Since it is clear that all the variables i.e. item prices are included into the packages as shown above, it should be possible to approximately estimate price of every item. In case any item is omitted from the packages dataset, we need to take further steps to deal with the edge case, which I can freely discuss in person in an interview"
   ]
  },
  {
   "cell_type": "code",
   "execution_count": 8,
   "id": "f5103b16-21f8-4ebf-a9b6-f6d2477682a6",
   "metadata": {
    "scrolled": true
   },
   "outputs": [],
   "source": [
    "# Generating A and b matrices\n",
    "\n",
    "item_index_map = {item_name: i_ for i_, item_name in enumerate(unique_items)}\n",
    "\n",
    "A = np.zeros([len(packages_df),unique_items.size])\n",
    "b = packages_df['total_volume'].values\n",
    "\n",
    "for package_i_, package_items in enumerate(packages_df['items']):\n",
    "    for item_name in package_items:\n",
    "        if item_name in item_index_map:\n",
    "            A[package_i_, item_index_map[item_name]] = 1"
   ]
  },
  {
   "cell_type": "markdown",
   "id": "7bee2d48-482b-4a72-9325-656819da2307",
   "metadata": {},
   "source": [
    "### Least Squares/ Linear Regression\n",
    "A way to solve the system of overdetermined linear equations is least squares which minimizes the Euclidean norm of the residual vector $||Ax-b||$ as where $x=(A^{T}A)^{-1}A^{T}b$"
   ]
  },
  {
   "cell_type": "code",
   "execution_count": 9,
   "id": "7380d917-463a-41ba-a0fd-de6d4e19531d",
   "metadata": {},
   "outputs": [
    {
     "name": "stdout",
     "output_type": "stream",
     "text": [
      "[22.02111852 14.54056646 22.77823394 14.96404077 21.54299888 29.66981803\n",
      " 11.03659771 15.9578205   6.86438901  8.35269535 15.18408573 14.45781057\n",
      " 22.10481856 26.43536529 25.80303081  7.27123907 25.77582664  9.48204202\n",
      " 20.5833954   7.51540813  6.8321253  20.85050277  8.45491676 19.32663857\n",
      "  6.87568259  0.92182479  5.94642204 13.24674395  4.97568334 25.11605272\n",
      " 12.50011259  9.89830518  1.55541432 23.95055876 10.53217932 23.03327846\n",
      " 11.56637414  5.00575174  4.8114853  22.43858888 17.58217752 26.03734021\n",
      "  7.21260259 11.17668406 16.60870844 11.38489874 26.99512695 23.01064414\n",
      "  5.62320838 11.65542281 16.50891537 10.44151953 18.70332939 25.49260732\n",
      " 16.19378997  0.37567657 12.35544498  8.83333203  3.54618027  0.95934005]\n"
     ]
    }
   ],
   "source": [
    "with warn.catch_warnings():\n",
    "    warn.simplefilter(\"ignore\", RuntimeWarning)\n",
    "    estimated_volumes_ls = (np.linalg.inv(A.T@A)@A.T)@b\n",
    "    print(estimated_volumes_ls)"
   ]
  },
  {
   "cell_type": "markdown",
   "id": "d465db45-1296-4d7d-ba43-fca4e0de138e",
   "metadata": {},
   "source": [
    "The same result can be obtained by using a Linear Regression implementation of scikit-learn"
   ]
  },
  {
   "cell_type": "code",
   "execution_count": 10,
   "id": "8c57f7e2-7f0d-4314-822a-5ea3432da53f",
   "metadata": {},
   "outputs": [],
   "source": [
    "with warn.catch_warnings():\n",
    "    warn.simplefilter(\"ignore\", RuntimeWarning)\n",
    "    linear_model = LinearRegression(positive=True, fit_intercept=False)\n",
    "    linear_model.fit(A,b)"
   ]
  },
  {
   "cell_type": "code",
   "execution_count": 11,
   "id": "2d23e9a9-1745-4d52-9ca6-55ee47ea40a5",
   "metadata": {},
   "outputs": [
    {
     "name": "stdout",
     "output_type": "stream",
     "text": [
      "[22.02111852 14.54056646 22.77823394 14.96404077 21.54299888 29.66981803\n",
      " 11.03659771 15.9578205   6.86438901  8.35269535 15.18408573 14.45781057\n",
      " 22.10481856 26.43536529 25.80303081  7.27123907 25.77582664  9.48204202\n",
      " 20.5833954   7.51540813  6.8321253  20.85050277  8.45491676 19.32663857\n",
      "  6.87568259  0.92182479  5.94642204 13.24674395  4.97568334 25.11605272\n",
      " 12.50011259  9.89830518  1.55541432 23.95055876 10.53217932 23.03327846\n",
      " 11.56637414  5.00575174  4.8114853  22.43858888 17.58217752 26.03734021\n",
      "  7.21260259 11.17668406 16.60870844 11.38489874 26.99512695 23.01064414\n",
      "  5.62320838 11.65542281 16.50891537 10.44151953 18.70332939 25.49260732\n",
      " 16.19378997  0.37567657 12.35544498  8.83333203  3.54618027  0.95934005]\n"
     ]
    }
   ],
   "source": [
    "estimated_volumes_lr = linear_model.coef_\n",
    "print(estimated_volumes_lr)\n",
    "item_volume_df = pd.DataFrame({'name': unique_items, 'volume': estimated_volumes_lr})\n",
    "item_price_volume_df = pd.merge(items_df, item_volume_df, on='name')"
   ]
  },
  {
   "cell_type": "markdown",
   "id": "a0a34c6b-3244-47a3-9374-e2c6b79f6962",
   "metadata": {},
   "source": [
    "We could also use iterative methods to give approximate results, but in this case, the final results depend upon a lot of factors such as:\n",
    "- initial assumtion\n",
    "- learning rate\n",
    "- optimizer used\n",
    "- number of iterations\n",
    "- tolerance\n",
    "\n",
    "But in practical cases, when the matrix $A$ grows in size, due to large number of packages and an increase in items in the catalog, it can also be advised to use iterative approximate methods. \n",
    "\n",
    "But for the time being, we are satisfied with the least-squared implementation above\n"
   ]
  },
  {
   "cell_type": "markdown",
   "id": "5b834141-b846-47df-9e43-33975781c39a",
   "metadata": {},
   "source": [
    "Now we have estimates of the item volumes, we can attach it to the existing dataframe and proceed further to solve the problem of maximuzing price while staying within the volume limit"
   ]
  },
  {
   "cell_type": "code",
   "execution_count": 12,
   "id": "e5ce056e-62a3-41a0-8aa1-339efd9453b3",
   "metadata": {},
   "outputs": [
    {
     "name": "stdout",
     "output_type": "stream",
     "text": [
      "Item Price Volume Dataframe Info:\n",
      "\n",
      "<class 'pandas.core.frame.DataFrame'>\n",
      "RangeIndex: 60 entries, 0 to 59\n",
      "Data columns (total 3 columns):\n",
      " #   Column  Non-Null Count  Dtype  \n",
      "---  ------  --------------  -----  \n",
      " 0   name    60 non-null     object \n",
      " 1   price   60 non-null     int64  \n",
      " 2   volume  60 non-null     float64\n",
      "dtypes: float64(1), int64(1), object(1)\n",
      "memory usage: 1.5+ KB\n",
      "None\n",
      "Item Price Volume Dataframe head:\n",
      "\n",
      "  name  price     volume\n",
      "0   A1     98  22.021119\n",
      "1   A2    108  14.457811\n",
      "2   A3     82   8.454917\n",
      "3   A4     34  23.950559\n",
      "4   A5     52  16.608708\n"
     ]
    }
   ],
   "source": [
    "print('Item Price Volume Dataframe Info:\\n')\n",
    "print(item_price_volume_df.info())\n",
    "print('Item Price Volume Dataframe head:\\n')\n",
    "print(item_price_volume_df.head())"
   ]
  },
  {
   "cell_type": "markdown",
   "id": "ccc84664-3c36-4262-80e3-4214f33e8817",
   "metadata": {},
   "source": [
    "The problem to solve is a classic 0/1 knapsack problem. Where given the capacity of a sack, one has to fill it with items which result in maximum value (here price) while staying within the limits of the sack capacity. There are several ways to solve it, I will provide two:"
   ]
  },
  {
   "cell_type": "markdown",
   "id": "b1baf2d8-520b-47ec-8bb9-ceb3593da20e",
   "metadata": {},
   "source": [
    "### Integer Programming\n",
    "\n",
    "The problem can be formulated as an Integer Programming problem as follows:\n",
    "\n",
    "\\begin{align*}\n",
    "\\text{Minimize: } & -c^T x \\\\\n",
    "\\text{Subject to: } & A x \\le b \\\\ \n",
    "& x_i \\in \\{0, 1\\} \\quad \\forall i \\in I\n",
    "\\end{align*}\n",
    "\n",
    "\n",
    "The above formulation, when solved for $x$ will give a linear combination of items, with maximum price and volume lying within the sack capacity. The integer constraints and bounds make sure that either one item is selected once or zero number of times"
   ]
  },
  {
   "cell_type": "code",
   "execution_count": 13,
   "id": "c799d0f6-fee7-46ec-a872-36f36f8190e6",
   "metadata": {},
   "outputs": [],
   "source": [
    "def milp_solve(item_price_volume_df, capacity):\n",
    "    \"\"\"\n",
    "    Solves the 0/1 Knapsack problem using a integer programming approach.\n",
    "\n",
    "    Args:\n",
    "        item_price_volume_df (pd.DataFrame): DataFrame with 'name', 'price', 'volume' columns.\n",
    "        capacity (float): The maximum volume capacity of the knapsack.\n",
    "\n",
    "    Returns:\n",
    "        dict: {\n",
    "        'error' (boolean): Flag informing error within the MILP solver,\n",
    "        'result' (pd.DataFrame): Dataframe with 'name', 'price', 'volume' columns.\n",
    "        }\n",
    "    \"\"\"\n",
    "    \n",
    "    num_items = len(item_price_volume_df)\n",
    "    \n",
    "    # objective function\n",
    "    c = -1*item_price_volume_df['price'].values\n",
    "\n",
    "    # constraints\n",
    "    # Ax <= b\n",
    "    # sum of item volumes should be less than or equal to the sack capacity\n",
    "    A = item_price_volume_df['volume'].values.reshape(1, num_items)\n",
    "    constraints = LinearConstraint(A, [0], [capacity])\n",
    "\n",
    "    # the number of times each item can be chosen lies between 0 and 1\n",
    "    bounds = Bounds(0, 1)\n",
    "\n",
    "    # integer constraints\n",
    "    # if an item is chosen, it is chosen ONCE as an entity, not in fractions!\n",
    "    integrality = np.ones(num_items, dtype=int)\n",
    "\n",
    "    result = milp(c, constraints=constraints, bounds=bounds, integrality=integrality)\n",
    "\n",
    "    if result.success:\n",
    "        selected_items_indices_ = np.where(result.x.round()==1)[0]\n",
    "        selected_items = item_price_volume_df.iloc[selected_items_indices_]\n",
    "        return {\n",
    "            'error': False,\n",
    "            'result': selected_items\n",
    "        }\n",
    "    else:\n",
    "        return {'error': True}"
   ]
  },
  {
   "cell_type": "code",
   "execution_count": 14,
   "id": "4cb05813-3bac-4bf3-8dd8-1cc35a1a0633",
   "metadata": {},
   "outputs": [
    {
     "name": "stdout",
     "output_type": "stream",
     "text": [
      "Selected items: ['A6' 'A8' 'A9' 'A23' 'A32' 'A35' 'A38' 'A44' 'A48']\n",
      "Total price of selected items: 757\n",
      "Total volume of selected items: 39.97233714874501 L\n"
     ]
    }
   ],
   "source": [
    "milp_res = milp_solve(item_price_volume_df, 40.0)\n",
    "if not milp_res['error']:\n",
    "    selected_items_df = milp_res['result']\n",
    "    print('Selected items: {}'.format(selected_items_df['name'].values))\n",
    "    print('Total price of selected items: {}'.format(selected_items_df['price'].values.sum()))\n",
    "    print('Total volume of selected items: {} L'.format(selected_items_df['volume'].values.sum()))"
   ]
  },
  {
   "cell_type": "markdown",
   "id": "1cc6107d-d5ed-4f27-9952-0b372cb8edfb",
   "metadata": {},
   "source": [
    "As you see, the above items are selected with the maximum price of 757 and 39.97 Liters, which satisfies our limit of 40 litres"
   ]
  },
  {
   "cell_type": "markdown",
   "id": "61bb27b7-acaa-4c9b-ba2a-49dba28b74e6",
   "metadata": {},
   "source": [
    "### Dynamic Programming (Sparse, worthy a discussion)\n",
    "\n",
    "It is quite well known that a knapsack problem with dynamic programming has been one of the typical questions asked in a programming interview. Here I will implement it with a twist!\n",
    "\n",
    "In a typical DP problem, the user creates a discrete linspace of volume to create huge matrix! When the volume is a floating point, the user creates a linspace of value, in order to maximize value. But the problem here is always to create an incremental linspace of either volume or value. Why?\n",
    "\n",
    "I am presenting here an approach which only considers achievable volume and not a discrete linspace. Whether it's efficient or not can be discussed in person, but I thought it would be impressive to do it."
   ]
  },
  {
   "cell_type": "code",
   "execution_count": 15,
   "id": "b9761757-664a-4c0c-a6e1-ca62ee645224",
   "metadata": {},
   "outputs": [],
   "source": [
    "def solve_knapsack_sparse_dp(item_price_volume_df, capacity, significant_digits=2):\n",
    "    \"\"\"\n",
    "    Solves the 0/1 Knapsack problem using a sparse (dictionary-based) dDP approach.\n",
    "\n",
    "    Args:\n",
    "        item_price_volume_df (pd.DataFrame): DataFrame with 'name', 'price', 'volume' columns.\n",
    "        capacity (float): The maximum volume capacity of the knapsack.\n",
    "        significant_digits (int): Significant digits to be considered in volume calculation. E.g. with 3 significant_digits, vol of 2.4586 is rounded off to 2.459\n",
    "\n",
    "    Returns:\n",
    "        tuple: (max_price, selected_items_names, actual_volume_used)\n",
    "    \"\"\"\n",
    "\n",
    "    scale_factor = 10**significant_digits\n",
    "    scaled_capacity = int(np.round(capacity, significant_digits) * scale_factor)\n",
    "\n",
    "    # dp: A dict with keys as achievable scaled volumes, and values are the corresp. max prices\n",
    "    # We also store which items contribute to that volume for reconstruction\n",
    "    dp = {0: {'price': 0, 'items': []}} \n",
    "\n",
    "    for index, row in item_price_volume_df.iterrows():\n",
    "        # for each item\n",
    "        \n",
    "        item_name = row['name']\n",
    "        item_price = row['price']\n",
    "        item_volume = row['volume']\n",
    "        \n",
    "        # ensuring at least 1 as scaled volume\n",
    "        scaled_item_volume = max(1, int(item_volume * scale_factor)) \n",
    "        \n",
    "        for current_scaled_vol, data in list(dp.items()):\n",
    "            # loop over existing calculated volumes and respective items' combination\n",
    "            \n",
    "            current_price = data['price']\n",
    "            current_items = data['items']\n",
    "\n",
    "            new_scaled_vol = current_scaled_vol + scaled_item_volume\n",
    "            new_price = current_price + item_price\n",
    "\n",
    "            if new_scaled_vol <= scaled_capacity:\n",
    "                # if new volume is still less than the capacity of the sack\n",
    "                if new_scaled_vol not in dp or new_price > dp[new_scaled_vol]['price']:\n",
    "                    # if the new volume isnt recorded yet or the new volume's price is greater than prev max price\n",
    "                    # record it in dp dict\n",
    "                    dp[new_scaled_vol] = {'price': new_price, 'items': current_items + [item_name]}\n",
    "\n",
    "    # calculate the max price, correponding volume and item combination\n",
    "    max_price = 0\n",
    "    best_scaled_volume = 0\n",
    "    selected_items = []\n",
    "    \n",
    "    for scaled_vol, data in dp.items():\n",
    "        if data['price'] > max_price:\n",
    "            max_price = data['price']\n",
    "            best_scaled_volume = scaled_vol\n",
    "            selected_items = data['items']\n",
    "        \n",
    "    actual_volume_used = item_price_volume_df[item_price_volume_df['name'].isin(selected_items)]['volume'].sum()\n",
    "\n",
    "    return max_price, selected_items, float(actual_volume_used)"
   ]
  },
  {
   "cell_type": "code",
   "execution_count": 16,
   "id": "8baf4bdd-8dc3-4372-a48e-e8be886cfa24",
   "metadata": {},
   "outputs": [
    {
     "name": "stdout",
     "output_type": "stream",
     "text": [
      "(757, ['A6', 'A8', 'A9', 'A23', 'A32', 'A35', 'A38', 'A44', 'A48'], 39.97233714874501)\n"
     ]
    }
   ],
   "source": [
    "print(solve_knapsack_sparse_dp(item_price_volume_df, 40))"
   ]
  },
  {
   "cell_type": "markdown",
   "id": "58469ece-552a-4aaa-9158-ef6f6943591a",
   "metadata": {},
   "source": [
    "The sparse dynamic programming solution of the above problem is also same as the one obtained by linear integer programming."
   ]
  },
  {
   "cell_type": "markdown",
   "id": "a9f7e095-705c-44f7-90e9-1b916848ddfb",
   "metadata": {},
   "source": [
    "## Solution\n",
    "\n",
    "Thus, Ahmad can buy (A6, A8, A9, A23, A32, A35, A38, A44, A48) for Sergey's birthday. The estimated volume of items is 39.972 Litres and total price is 757."
   ]
  },
  {
   "cell_type": "code",
   "execution_count": null,
   "id": "7751d0d6-3229-4fb7-b306-313fd31fea31",
   "metadata": {},
   "outputs": [],
   "source": []
  }
 ],
 "metadata": {
  "kernelspec": {
   "display_name": "venv",
   "language": "python",
   "name": "venv"
  },
  "language_info": {
   "codemirror_mode": {
    "name": "ipython",
    "version": 3
   },
   "file_extension": ".py",
   "mimetype": "text/x-python",
   "name": "python",
   "nbconvert_exporter": "python",
   "pygments_lexer": "ipython3",
   "version": "3.9.6"
  }
 },
 "nbformat": 4,
 "nbformat_minor": 5
}
