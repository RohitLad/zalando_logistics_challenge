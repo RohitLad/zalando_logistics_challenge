{
 "cells": [
  {
   "cell_type": "code",
   "execution_count": 14,
   "id": "8d31897b-8c77-4624-b68c-be0ddf94e1ed",
   "metadata": {},
   "outputs": [],
   "source": [
    "import numpy as np\n",
    "import pandas as pd\n",
    "import warnings as warn\n",
    "from sklearn.linear_model import LinearRegression\n",
    "from scipy.optimize import milp, Bounds, LinearConstraint"
   ]
  },
  {
   "cell_type": "code",
   "execution_count": 2,
   "id": "ae84b3d0-08a7-4c73-9300-300ad949c190",
   "metadata": {},
   "outputs": [],
   "source": [
    "items_df = pd.read_json('items.json')\n",
    "packages_df = pd.read_json('packages.json')"
   ]
  },
  {
   "cell_type": "code",
   "execution_count": 3,
   "id": "aafc24ef-cd17-40d8-bc13-369cc3258aac",
   "metadata": {},
   "outputs": [
    {
     "name": "stdout",
     "output_type": "stream",
     "text": [
      "Items Dataframe Info:\n",
      "\n",
      "<class 'pandas.core.frame.DataFrame'>\n",
      "RangeIndex: 60 entries, 0 to 59\n",
      "Data columns (total 2 columns):\n",
      " #   Column  Non-Null Count  Dtype \n",
      "---  ------  --------------  ----- \n",
      " 0   name    60 non-null     object\n",
      " 1   price   60 non-null     int64 \n",
      "dtypes: int64(1), object(1)\n",
      "memory usage: 1.1+ KB\n",
      "None\n",
      "Items Dataframe head:\n",
      "\n",
      "  name  price\n",
      "0   A1     98\n",
      "1   A2    108\n",
      "2   A3     82\n",
      "3   A4     34\n",
      "4   A5     52\n"
     ]
    }
   ],
   "source": [
    "print('Items Dataframe Info:\\n')\n",
    "print(items_df.info())\n",
    "print('Items Dataframe head:\\n')\n",
    "print(items_df.head())"
   ]
  },
  {
   "cell_type": "code",
   "execution_count": 4,
   "id": "11821696-2669-4e0b-ac9c-1ecaba835bb8",
   "metadata": {},
   "outputs": [
    {
     "name": "stdout",
     "output_type": "stream",
     "text": [
      "Total number of items: 60\n",
      "Item names: \n",
      "['A1' 'A10' 'A11' 'A12' 'A13' 'A14' 'A15' 'A16' 'A17' 'A18' 'A19' 'A2'\n",
      " 'A20' 'A21' 'A22' 'A23' 'A24' 'A25' 'A26' 'A27' 'A28' 'A29' 'A3' 'A30'\n",
      " 'A31' 'A32' 'A33' 'A34' 'A35' 'A36' 'A37' 'A38' 'A39' 'A4' 'A40' 'A41'\n",
      " 'A42' 'A43' 'A44' 'A45' 'A46' 'A47' 'A48' 'A49' 'A5' 'A50' 'A51' 'A52'\n",
      " 'A53' 'A54' 'A55' 'A56' 'A57' 'A58' 'A59' 'A6' 'A60' 'A7' 'A8' 'A9']\n"
     ]
    }
   ],
   "source": [
    "unique_items = np.sort(items_df['name'].unique().flatten())\n",
    "print('Total number of items: {}'.format(unique_items.size))\n",
    "print('Item names: \\n{}'.format(unique_items))"
   ]
  },
  {
   "cell_type": "code",
   "execution_count": 5,
   "id": "1a32d2ee-4dfa-4020-a6fa-fc709782be25",
   "metadata": {},
   "outputs": [
    {
     "name": "stdout",
     "output_type": "stream",
     "text": [
      "Packages Dataframe Info:\n",
      "\n",
      "<class 'pandas.core.frame.DataFrame'>\n",
      "RangeIndex: 1000 entries, 0 to 999\n",
      "Data columns (total 2 columns):\n",
      " #   Column        Non-Null Count  Dtype  \n",
      "---  ------        --------------  -----  \n",
      " 0   total_volume  1000 non-null   float64\n",
      " 1   items         1000 non-null   object \n",
      "dtypes: float64(1), object(1)\n",
      "memory usage: 15.8+ KB\n",
      "None\n",
      "Packages Dataframe head:\n",
      "\n",
      "   total_volume                                    items\n",
      "0         36.04                      [A28, A3, A33, A59]\n",
      "1        123.78  [A51, A23, A57, A5, A33, A28, A12, A47]\n",
      "2         58.54                          [A10, A19, A22]\n",
      "3         79.33           [A38, A28, A57, A27, A46, A45]\n",
      "4         54.36                          [A40, A24, A57]\n"
     ]
    }
   ],
   "source": [
    "print('Packages Dataframe Info:\\n')\n",
    "print(packages_df.info())\n",
    "print('Packages Dataframe head:\\n')\n",
    "print(packages_df.head())"
   ]
  },
  {
   "cell_type": "code",
   "execution_count": 6,
   "id": "1ad55570-cb36-41c5-97e3-3ea7a5f83086",
   "metadata": {},
   "outputs": [
    {
     "name": "stdout",
     "output_type": "stream",
     "text": [
      "Total number of unique items included in packages: 60\n",
      "Item names included in packages: \n",
      "['A1' 'A10' 'A11' 'A12' 'A13' 'A14' 'A15' 'A16' 'A17' 'A18' 'A19' 'A2'\n",
      " 'A20' 'A21' 'A22' 'A23' 'A24' 'A25' 'A26' 'A27' 'A28' 'A29' 'A3' 'A30'\n",
      " 'A31' 'A32' 'A33' 'A34' 'A35' 'A36' 'A37' 'A38' 'A39' 'A4' 'A40' 'A41'\n",
      " 'A42' 'A43' 'A44' 'A45' 'A46' 'A47' 'A48' 'A49' 'A5' 'A50' 'A51' 'A52'\n",
      " 'A53' 'A54' 'A55' 'A56' 'A57' 'A58' 'A59' 'A6' 'A60' 'A7' 'A8' 'A9']\n"
     ]
    }
   ],
   "source": [
    "unique_items_included_in_packages = np.sort(packages_df['items'].explode().unique().flatten())\n",
    "print('Total number of unique items included in packages: {}'.format(unique_items_included_in_packages.size))\n",
    "print('Item names included in packages: \\n{}'.format(unique_items_included_in_packages))"
   ]
  },
  {
   "cell_type": "code",
   "execution_count": 7,
   "id": "3575837d-538b-4095-9cb1-2def52a551e0",
   "metadata": {},
   "outputs": [
    {
     "name": "stdout",
     "output_type": "stream",
     "text": [
      "Items not included in packages: \n",
      "[]\n",
      "Number of items not included in packages: \n",
      "0\n"
     ]
    }
   ],
   "source": [
    "items_not_included_in_packages = list(set(unique_items)-set(unique_items_included_in_packages))\n",
    "num_items_not_included_in_packages = len(items_not_included_in_packages)\n",
    "\n",
    "print('Items not included in packages: \\n{}'.format(items_not_included_in_packages))\n",
    "print('Number of items not included in packages: \\n{}'.format(num_items_not_included_in_packages))"
   ]
  },
  {
   "cell_type": "code",
   "execution_count": 8,
   "id": "f5103b16-21f8-4ebf-a9b6-f6d2477682a6",
   "metadata": {},
   "outputs": [],
   "source": [
    "item_index_map = {item_name: i_ for i_, item_name in enumerate(unique_items)}\n",
    "\n",
    "X = np.zeros([len(packages_df),unique_items.size])\n",
    "y = packages_df['total_volume'].values\n",
    "\n",
    "for package_i_, package_items in enumerate(packages_df['items']):\n",
    "    for item_name in package_items:\n",
    "        if item_name in item_index_map:\n",
    "            X[package_i_, item_index_map[item_name]] = 1"
   ]
  },
  {
   "cell_type": "code",
   "execution_count": 9,
   "id": "8c57f7e2-7f0d-4314-822a-5ea3432da53f",
   "metadata": {},
   "outputs": [],
   "source": [
    "with warn.catch_warnings():\n",
    "    warn.simplefilter(\"ignore\", RuntimeWarning)\n",
    "    linear_model = LinearRegression(positive=True, fit_intercept=False)\n",
    "    linear_model.fit(X,y)"
   ]
  },
  {
   "cell_type": "code",
   "execution_count": 10,
   "id": "2d23e9a9-1745-4d52-9ca6-55ee47ea40a5",
   "metadata": {},
   "outputs": [],
   "source": [
    "estimated_volumes = linear_model.coef_\n",
    "item_volume_df = pd.DataFrame({'name': unique_items, 'volume': estimated_volumes})\n",
    "item_price_volume_df = pd.merge(items_df, item_volume_df, on='name')"
   ]
  },
  {
   "cell_type": "code",
   "execution_count": 11,
   "id": "e5ce056e-62a3-41a0-8aa1-339efd9453b3",
   "metadata": {},
   "outputs": [
    {
     "name": "stdout",
     "output_type": "stream",
     "text": [
      "Item Price Volume Dataframe Info:\n",
      "\n",
      "<class 'pandas.core.frame.DataFrame'>\n",
      "RangeIndex: 60 entries, 0 to 59\n",
      "Data columns (total 3 columns):\n",
      " #   Column  Non-Null Count  Dtype  \n",
      "---  ------  --------------  -----  \n",
      " 0   name    60 non-null     object \n",
      " 1   price   60 non-null     int64  \n",
      " 2   volume  60 non-null     float64\n",
      "dtypes: float64(1), int64(1), object(1)\n",
      "memory usage: 1.5+ KB\n",
      "None\n",
      "Item Price Volume Dataframe head:\n",
      "\n",
      "  name  price     volume\n",
      "0   A1     98  22.021119\n",
      "1   A2    108  14.457811\n",
      "2   A3     82   8.454917\n",
      "3   A4     34  23.950559\n",
      "4   A5     52  16.608708\n"
     ]
    }
   ],
   "source": [
    "print('Item Price Volume Dataframe Info:\\n')\n",
    "print(item_price_volume_df.info())\n",
    "print('Item Price Volume Dataframe head:\\n')\n",
    "print(item_price_volume_df.head())"
   ]
  },
  {
   "cell_type": "code",
   "execution_count": 48,
   "id": "c799d0f6-fee7-46ec-a872-36f36f8190e6",
   "metadata": {},
   "outputs": [],
   "source": [
    "def milp_solve(capacity, item_price_volume_df):\n",
    "\n",
    "    num_items = len(item_price_volume_df)\n",
    "    \n",
    "    # objective function\n",
    "    objective_function = -1*item_price_volume_df['price'].values\n",
    "\n",
    "    # constraints\n",
    "    # Ax <= b\n",
    "    A = item_price_volume_df['volume'].values.reshape(1, num_items)\n",
    "    constraints = LinearConstraint(A, [0], [capacity])\n",
    "\n",
    "    # binary constraints\n",
    "    bounds = Bounds(0, 1)\n",
    "\n",
    "    # integer constraints\n",
    "    integrality = np.ones(num_items, dtype=int)\n",
    "\n",
    "    result = milp(objective_function, constraints=constraints, bounds=bounds, integrality=integrality)\n",
    "\n",
    "    if result.success:\n",
    "        selected_items_indices_ = np.where(result.x.round()==1)[0]\n",
    "        selected_items = item_price_volume_df.iloc[selected_items_indices_]\n",
    "        return {\n",
    "            'error': False,\n",
    "            'result': selected_items\n",
    "        }\n",
    "    else:\n",
    "        return {'error': True}"
   ]
  },
  {
   "cell_type": "code",
   "execution_count": 47,
   "id": "4cb05813-3bac-4bf3-8dd8-1cc35a1a0633",
   "metadata": {},
   "outputs": [
    {
     "name": "stdout",
     "output_type": "stream",
     "text": [
      "Selected items: ['A6' 'A8' 'A9' 'A23' 'A32' 'A35' 'A38' 'A44' 'A48']\n",
      "Total price of selected items: 757\n",
      "Total volume of selected items: 39.97233714874501 L\n"
     ]
    }
   ],
   "source": [
    "milp_res = milp_solve(40, item_price_volume_df)\n",
    "if not milp_res['error']:\n",
    "    selected_items_df = milp_res['result']\n",
    "    print('Selected items: {}'.format(selected_items_df['name'].values))\n",
    "    print('Total price of selected items: {}'.format(selected_items_df['price'].values.sum()))\n",
    "    print('Total volume of selected items: {} L'.format(selected_items_df['volume'].values.sum()))\n",
    "    "
   ]
  },
  {
   "cell_type": "code",
   "execution_count": null,
   "id": "fd3762b3-e2c8-4173-b27d-d3d853f361a6",
   "metadata": {},
   "outputs": [],
   "source": []
  }
 ],
 "metadata": {
  "kernelspec": {
   "display_name": "venv",
   "language": "python",
   "name": "venv"
  },
  "language_info": {
   "codemirror_mode": {
    "name": "ipython",
    "version": 3
   },
   "file_extension": ".py",
   "mimetype": "text/x-python",
   "name": "python",
   "nbconvert_exporter": "python",
   "pygments_lexer": "ipython3",
   "version": "3.9.6"
  }
 },
 "nbformat": 4,
 "nbformat_minor": 5
}
